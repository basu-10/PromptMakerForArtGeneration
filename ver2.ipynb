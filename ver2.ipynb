{
  "nbformat": 4,
  "nbformat_minor": 0,
  "metadata": {
    "colab": {
      "name": "Untitled0.ipynb",
      "provenance": [],
      "collapsed_sections": []
    },
    "kernelspec": {
      "name": "python3",
      "display_name": "Python 3"
    },
    "language_info": {
      "name": "python"
    }
  },
  "cells": [
    {
      "cell_type": "code",
      "source": [
        "#@title Init <br><center>Run once. <br>Running twice resets the effects list\n",
        "total_effects = []\n",
        "total_edits=[] #painter/director\n",
        "total_made_of_effects=[]"
      ],
      "metadata": {
        "cellView": "form",
        "id": "848l9HMuVh9U"
      },
      "execution_count": null,
      "outputs": []
    },
    {
      "cell_type": "markdown",
      "source": [
        "------------------------------------------------------------------------------------------------------------------------------------------------------------------------------------------------------------------------<br>------------------------------------------------------------------------------------------------------------------------------------------------------------------------------------------------------------------------<br>"
      ],
      "metadata": {
        "id": "6oe_dNOv8K8g"
      }
    },
    {
      "cell_type": "code",
      "execution_count": null,
      "metadata": {
        "cellView": "form",
        "id": "f0aa8DRtEz_a"
      },
      "outputs": [],
      "source": [
        "#@title <center>Enter your main prompt phrase here and click run. <br>You can enter the effects in the next cell\n",
        "enter_prompt = 'city on ocean of clouds' #@param {type:\"string\"}\n",
        "enter_prompt=f\"{enter_prompt} | :11\"\n"
      ]
    },
    {
      "cell_type": "markdown",
      "source": [
        "------------------------------------------------------------------------------------------------------------------------------------------------------------------------------------------------------------------------<br>------------------------------------------------------------------------------------------------------------------------------------------------------------------------------------------------------------------------<br>"
      ],
      "metadata": {
        "id": "53u3y1pq8xmP"
      }
    },
    {
      "cell_type": "code",
      "source": [
        "#@title <center>add one filter and click run.\n",
        "#@markdown <center>Check your list of effects with the cell = Run to build and view your prompt string.<br><br>\n",
        "\n",
        "select_effects = '1999 ' #@param [\"Mushroom\", \"Spaceship\", \"Victorian house by the riverside \", \"Volcano \", \"CGSociety \", \"child's drawing \", \"voce alloon \", \"marble \", \"sculpture \", \"airbrush art \", \"Holand \", \"Foll \", \"1999 \", \"renaissance \", \"painting \", \"Velvia \", \"Provia \", \"8k resolution \", \"Victorian house in a neighbourhood \", \"pencil sketch \", \"8K 3D \", \"creative \", \"commons \", \"attribution \", \"deviantart \", \"CryEngine \", \"Unreal Engine \", \"concept art \", \"photoillustration \", \"Mushroom \", \"Volcano \", \"pixiv \", \"Flickr \", \"ArtStation HD \", \"Behance HD \", \"HDR \", \"anime \", \"filmic \", \"Stock photo \", \"Ambient occlusion \", \"Global \", \"illumination \", \"Chalk art \", \"UT \", \"Low poly \", \"Booru \", \"Polycount \", \"Acrylic art \", \"Hyperrealism \", \"Zbrush \", \"Central \", \"Rendered in Cinema4D \", \"Rendered in \", \"Maya \", \"Photo taken with Nikon D750 \", \"Tilt shift \", \"Mushroom \", \"Mixed media \", \"Volcano \", \"Depth of field \", \"DSLR \", \"Detailed painting \", \"Volumetric \", \"lighting \", \"Storybook illustration \", \"winner \", \"Unsplash contest \", \"#vfxfriday \", \"Ultrafine detail \", \"20 megapixels \", \"JESME \", \"Photo taken with Fugifilm Superia \", \"Photo taken with \", \"Ektachrome \", \"matte painting \", \"reimagined by industrial light and magic \", \"Mushroom \", \"Watercolor \", \"TEN \", \"child's drawing \", \"Vice Ciliore \", \"marble \", \"airbrush art \", \"Holand \", \"painting \", \"Velvia \", \"Provia \", \"photo taken with Provia \", \"prerendered \", \"graphics \", \"criterion \", \"collection \", \"dye-transfer \", \"DYFEE \", \"stipple \", \"Parallax \", \"THER TEE \", \"Bryce 3D \", \"Terragen \", \"Bokeh \", \"1990s, 1995 \", \"1970s, 1975 \", \"1920s, 1925 \", \"charcoal drawing \", \"Gluh \", \"commission for \", \"furaffinity \", \"flat shading \", \"ink drawing \", \"artwork \", \"oil on canvas \", \"photography \", \"macro \", \"hall of mirrors \", \"polished \", \"sunrays shine \", \"upon it \", \"aftereffects \", \"iridescent \", \"#film \", \"TIT \", \"datamosh \", \"-1962 \", \"cinematography \", \"holographic \", \"EEN \", \"dutch golden age \", \"digitally enhanced \", \"National Geographic photo \", \"Associated Press \", \"AP \", \"matte background \", \"Til \", \"Art on Instagram \", \"#myportfolio \", \"Mushroom \", \"Victorian house on a hill \", \"Volcano \", \"bokeh \", \"pe \", \"digital illustration \", \"DE \", \"stock photo \", \"aftereffects \", \"speedpainting 1 \", \"100 \", \"colorized \", \"detailed \", \"psychedelic \", \"groovy \", \"ILUR \", \"ULEE \", \"Coro \", \"wavy \", \"movie poster \", \"pop art \", \"tattoo \", \"woodcut \", \"taw \", \"Mushroom \", \"masterpiece \", \"Fauvism \", \"GE \", \"shot on 70mm \", \"Art Deco \", \"Picasso \", \"Pilocos va \", \"Da Vinci \", \"Vio \", \"Academic art \", \"3840x2160 \", \"Photocollage \", \"TT \", \"FD. \", \"Cubism \", \"Surrealist \", \"THX Sound \", \"ZBrush \", \"JELE \", \"Panorama \", \"smooth \", \"C G \", \"DC Comics \", \"Marvel Comics \", \"Ukiyo-e \", \"Flemish Baroque \", \"lant \", \"vray tracing \", \"pixel perfect \", \"quantum wavetracing \", \"Zbrush central contest winner \", \"Mushroom \", \"ISO 200 \", \"Bob Ross \", \"32k HUHD \", \"Photocopy \", \"DeviantArt HD \", \"Tri-X 400 TX \", \"trending on artstation \", \"featured on artstation \", \"artstation HQ \", \"ultra HD \", \"high quality photo \", \"instax \", \"ilford HPS \", \"infrared \", \"Volcano \", \"Lomo \", \"geometric \", \"Tai \", \"cluttered \", \"Rococo \", \"SSAO \", \"destructive \", \"TLT \", \"feminine \", \"ADE \", \"androgynous \", \"masculine \", \"genderless \", \"extremely \", \"gendered \", \"Mushroom \", \"2D game art \", \"Windows XP \", \"y2k aesthetic \", \"67 \", \"228 \", \"DIA \", \"#screenshotsaturday \", \"seapunk \", \"TOOL \", \"vaporwave \", \"MA \", \"phallic \", \"CL. \", \"creepypasta \"]\n",
        "strength_of_effect = 5.25 #@param {type:\"slider\", min:-10, max:10, step:0.25}\n",
        "effect_name_weight=f\"{select_effects} | :{strength_of_effect}\"\n",
        "total_effects.append(effect_name_weight)\n"
      ],
      "metadata": {
        "id": "PsaeOGnoHK2g",
        "cellView": "form"
      },
      "execution_count": null,
      "outputs": []
    },
    {
      "cell_type": "code",
      "source": [
        ""
      ],
      "metadata": {
        "id": "YtT5eEWH8yoh"
      },
      "execution_count": null,
      "outputs": []
    },
    {
      "cell_type": "markdown",
      "source": [
        "------------------------------------------------------------------------------------------------------------------------------------------------------------------------------------------------------------------------<br>------------------------------------------------------------------------------------------------------------------------------------------------------------------------------------------------------------------------<br>"
      ],
      "metadata": {
        "id": "_yJH6XEf8y20"
      }
    },
    {
      "cell_type": "code",
      "source": [
        "#@title <center>add one/multiple 'made of effects' and click run.\n",
        "#@markdown <center>Check your list of edits with the cell  = Run to build and view your prompt string.<br><br>\n",
        "\n",
        "select_made_of_effect = 'made of crystals ' #@param [\"made of beads and yarn \", \"made of feathers \", \"made of crystals \", \"made of liquid \", \"made of metal \", \"made of glass \", \"made of cardboard \", \"made of vines \", \"made of cheese \", \"made of flowers \", \"made of insects \", \"made of mist \", \"made of mushroom \", \"made of paperclips \", \"made of rubber \", \"made of plastic \", \"made of wire \", \"made of trash \", \"made of wrought iron \", \"made of paper \"]\n",
        "strength_of_effect = 4.25 #@param {type:\"slider\", min:-10, max:10, step:0.25}\n",
        "\n",
        "edit_name_weight=f\"{select_made_of_effect} | :{strength_of_effect}\"\n",
        "total_made_of_effects.append(edit_name_weight)\n",
        "print(total_made_of_effects)"
      ],
      "metadata": {
        "cellView": "form",
        "id": "KKt9HvDr5RjP"
      },
      "execution_count": null,
      "outputs": []
    },
    {
      "cell_type": "markdown",
      "source": [
        "------------------------------------------------------------------------------------------------------------------------------------------------------------------------------------------------------------------------<br>------------------------------------------------------------------------------------------------------------------------------------------------------------------------------------------------------------------------<br>"
      ],
      "metadata": {
        "id": "mIhif2Bx8z3V"
      }
    },
    {
      "cell_type": "code",
      "source": [
        "#@title <center>add one/multiple painters/directors and click run.\n",
        "#@markdown <center>Check your list of edits with the cell  = Run to build and view your prompt string.<br><br>\n",
        "\n",
        "select_edit_effects = 'By Ilya Kuvshinov ' #@param [\"by James Gurney \", \"by Thomas Kinkade \", \"by Vincent Di Fate \", \"by Jim Burns \", \"by kingdomakrillic \", \"By Paul Cezanne \", \"By Ilya Kuvshinov \", \"By Henry Moore \", \"cinematography by Speilberg \", \"directed by Hitchcock\"]\n",
        "strength_of_effect = 4.25 #@param {type:\"slider\", min:-10, max:10, step:0.25}\n",
        "\n",
        "edit_name_weight=f\"{select_edit_effects} | :{strength_of_effect}\"\n",
        "total_edits.append(edit_name_weight)\n",
        "print(total_edits)"
      ],
      "metadata": {
        "id": "b7A0M2eddZcU",
        "cellView": "form"
      },
      "execution_count": null,
      "outputs": []
    },
    {
      "cell_type": "markdown",
      "source": [
        "------------------------------------------------------------------------------------------------------------------------------------------------------------------------------------------------------------------------<br>------------------------------------------------------------------------------------------------------------------------------------------------------------------------------------------------------------------------<br>"
      ],
      "metadata": {
        "id": "CVJTMdhE80mN"
      }
    },
    {
      "cell_type": "code",
      "source": [
        "#@title <center>Run to build and view your prompt string.\n",
        "#@markdown <center>Note that your main prompt is set to a number higher than other effects. \n",
        "\n",
        "final_prompt=f\"{enter_prompt} \"\n",
        "final_prompt=final_prompt+\" | \"+''.join([str(elem) for elem in total_effects])+\" | \"+''.join([str(elem) for elem in total_edits])+\" | \"+''.join([str(elem) for elem in total_made_of_effects])\n",
        "print(final_prompt)"
      ],
      "metadata": {
        "cellView": "form",
        "id": "eVl3vqZCH_xF"
      },
      "execution_count": null,
      "outputs": []
    },
    {
      "cell_type": "markdown",
      "source": [
        "------------------------------------------------------------------------------------------------------------------------------------------------------------------------------------------------------------------------<br>------------------------------------------------------------------------------------------------------------------------------------------------------------------------------------------------------------------------<br>"
      ],
      "metadata": {
        "id": "3MARqeLt81Re"
      }
    },
    {
      "cell_type": "markdown",
      "source": [
        "------------------------------------------------------------------------------------------------------------------------------------------------------------------------------------------------------------------------<br>------------------------------------------------------------------------------------------------------------------------------------------------------------------------------------------------------------------------<br>"
      ],
      "metadata": {
        "id": "uw-g-Ny781s9"
      }
    },
    {
      "cell_type": "code",
      "source": [
        "#@title <center>Upload to GDrive - Setup (only if prompt is built in last step)\n",
        "#@markdown <center> Run once to init the Gdrive stuff\n",
        "drive.mount('/content/gdrive')\n",
        "drive_folder_name = 'newfolder' #@param {type:\"string\"}\n",
        "os.mkdir(f\"gdrive/MyDrive/{drive_folder_name}/\")\n"
      ],
      "metadata": {
        "cellView": "form",
        "id": "q42FE2xZbtsJ"
      },
      "execution_count": null,
      "outputs": []
    },
    {
      "cell_type": "code",
      "source": [
        "#@title <center>Upload Now to the foldername you gave above and download a copy to this too\n",
        "import os\n",
        "from google.colab import drive, files\n",
        "\n",
        "!pwd\n",
        "filename=\"prompt_list.txt\"\n",
        "eol=\"\\n\"\n",
        "final_prompt=final_prompt+eol\n",
        "with open(filename,'a+') as file1:\n",
        "  file1.write(final_prompt)\n",
        "\n",
        "files.download(filename)\n",
        "\n",
        "import shutil\n",
        "shutil.copy(filename,f\"gdrive/MyDrive/{drive_folder_name}/\")\n"
      ],
      "metadata": {
        "cellView": "form",
        "id": "c-XKmwGOXrJR"
      },
      "execution_count": null,
      "outputs": []
    }
  ]
}