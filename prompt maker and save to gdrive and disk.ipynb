{
  "nbformat": 4,
  "nbformat_minor": 0,
  "metadata": {
    "colab": {
      "name": "Untitled0.ipynb",
      "provenance": [],
      "collapsed_sections": []
    },
    "kernelspec": {
      "name": "python3",
      "display_name": "Python 3"
    },
    "language_info": {
      "name": "python"
    }
  },
  "cells": [
    {
      "cell_type": "code",
      "source": [
        "#@title Init <br>Run once. <br>Running twice resets the effects list\n",
        "total_effects = []\n",
        "total_edits=[]"
      ],
      "metadata": {
        "cellView": "form",
        "id": "848l9HMuVh9U"
      },
      "execution_count": null,
      "outputs": []
    },
    {
      "cell_type": "code",
      "execution_count": null,
      "metadata": {
        "cellView": "form",
        "id": "f0aa8DRtEz_a"
      },
      "outputs": [],
      "source": [
        "#@title Enter your main prompt phrase here and click run. <br>You can enter the effects in the next cell\n",
        "enter_prompt = 'city on ocean of clouds' #@param {type:\"string\"}\n",
        "enter_prompt=f\"{enter_prompt} | :11\"\n"
      ]
    },
    {
      "cell_type": "code",
      "source": [
        "#@title add one filter and click run.\n",
        "#@markdown Check your list of effects with the cell below<br><br>\n",
        "\n",
        "select_effects = 'By Vincent de Fate' #@param [\"By Jim Burns\",\"By Thomas Kinkade\",\"By Vincent de Fate\",\"oil on canvas\",\"Rococo\",\"\",\"flemish baroque\", \"cinematic\", \"Marvel Comics\", \"DC Comics\", \"Ukiyo-e\", \"vray tracing\", \"Fauvism\", \"Zbrush central contest winner\", \"pixel perfect\", \"shot on 70mm\", \"Art Deco\", \"Picasso\", \"Da Vinci\", \"Acaedemic Art\", \"Photocollage\", \"flickering light\", \"Seapunk\", \"Vapourwave\", \"instax\", \"minimalist\", \"maximalist\", \"\"]\n",
        "effect_name_weight=f\" | {select_effects}\"\n",
        "number_slider = 5.25 #@param {type:\"slider\", min:-10, max:10, step:0.25}\n",
        "effect_name_weight=f\"{effect_name_weight} | :{number_slider}\"\n",
        "total_effects.append(effect_name_weight)\n"
      ],
      "metadata": {
        "id": "PsaeOGnoHK2g"
      },
      "execution_count": null,
      "outputs": []
    },
    {
      "cell_type": "code",
      "source": [
        "#@title add one edit option and click run.\n",
        "#@markdown Check your list of edits with the cell below<br><br>\n",
        "\n",
        "select_edit_effects = 'Seapunk' #@param [\"oil on canvas\",\"\",\"\",\"flemish baroque\", \"cinematic\", \"Marvel Comics\", \"DC Comics\", \"Ukiyo-e\", \"vray tracing\", \"Fauvism\", \"Zbrush central contest winner\", \"pixel perfect\", \"shot on 70mm\", \"Art Deco\", \"Picasso\", \"Da Vinci\", \"Acaedemic Art\", \"Photocollage\", \"flickering light\", \"Seapunk\", \"Vapourwave\", \"instax\", \"minimalist\", \"maximalist\", \"\"]\n",
        "edit_name_weight=f\" | {select_effects}\"\n",
        "number_slider = 4.25 #@param {type:\"slider\", min:-10, max:10, step:0.25}\n",
        "edit_name_weight=f\"{select_edit_effects} | :{number_slider}\"\n",
        "total_edits.append(edit_name_weight)\n"
      ],
      "metadata": {
        "id": "b7A0M2eddZcU"
      },
      "execution_count": null,
      "outputs": []
    },
    {
      "cell_type": "code",
      "source": [
        "#@title Run to build and view your prompt string.\n",
        "#@markdown Note that your main prompt is set to a number higher than other effects. \n",
        "\n",
        "final_prompt=f\"{enter_prompt} \"\n",
        "final_prompt=final_prompt+' '.join([str(elem) for elem in total_effects])\n",
        "print(final_prompt)"
      ],
      "metadata": {
        "cellView": "form",
        "id": "eVl3vqZCH_xF"
      },
      "execution_count": null,
      "outputs": []
    },
    {
      "cell_type": "code",
      "source": [
        "#@title Run once to init the Gdrive stuff\n",
        "drive.mount('/content/gdrive')\n",
        "drive_folder_name = 'newfolder' #@param {type:\"string\"}\n",
        "os.mkdir(f\"gdrive/MyDrive/{drive_folder_name}/\")\n"
      ],
      "metadata": {
        "cellView": "form",
        "id": "q42FE2xZbtsJ"
      },
      "execution_count": null,
      "outputs": []
    },
    {
      "cell_type": "code",
      "source": [
        "#@title Upload to GDrive (only if prompt is built in last step)\n",
        "#@markdown Can be run many time to append the prompts\n",
        "import os\n",
        "from google.colab import drive\n",
        "\n",
        "!pwd\n",
        "filename=\"prompt_list.txt\"\n",
        "eol=\"\\n\"\n",
        "final_prompt=final_prompt+eol\n",
        "with open(filename,'a+') as file1:\n",
        "  file1.write(final_prompt)\n",
        "\n",
        "import shutil\n",
        "shutil.copy(filename,f\"gdrive/MyDrive/{drive_folder_name}/\")\n"
      ],
      "metadata": {
        "cellView": "form",
        "id": "c-XKmwGOXrJR"
      },
      "execution_count": null,
      "outputs": []
    }
  ]
}